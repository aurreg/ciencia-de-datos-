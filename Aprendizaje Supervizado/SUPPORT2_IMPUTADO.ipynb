{
 "cells": [
  {
   "cell_type": "markdown",
   "id": "d78ed63f-a4d1-4d93-8a17-26211ad3cea7",
   "metadata": {},
   "source": [
    "# Importación de la Base SUPPORT2 con Datos Imputados:\n",
    "Este cuaderno imputa los datos numéricos faltantes de la base de datos SUPPORT2, para luego exportarlos a un archivo CSV y aplicar un análisis factorial mixto utilizando R."
   ]
  },
  {
   "cell_type": "code",
   "execution_count": 13,
   "id": "2b602378-c344-4251-bbc3-9686702df8ab",
   "metadata": {},
   "outputs": [],
   "source": [
    "import pandas as pd\n",
    "import numpy as np\n",
    "import matplotlib.pyplot as plt\n",
    "from sklearn.impute import KNNImputer\n",
    "from sklearn.model_selection import train_test_split, KFold\n",
    "from sklearn.preprocessing import MinMaxScaler\n",
    "import statsmodels.api as sm\n",
    "from sklearn import metrics\n",
    "from sklearn.metrics import roc_curve, auc\n",
    "\n",
    "SUPPPORT2 = pd.read_excel(\"SUPPPORT2.xlsx\")\n",
    "\n",
    "# Definir las variables dependientes e independientes\n",
    "Y = SUPPPORT2.loc[:, 'death'].to_numpy()\n",
    "X = SUPPPORT2.drop(columns=['hospdead', 'death'])\n",
    "\n",
    "# Crear variables dummy para las columnas categóricas\n",
    "X_cuanty = SUPPPORT2.drop(columns=['sex', 'dzgroup', 'dzclass', 'income', 'race', 'ca', 'dnr', 'sfdm2'])\n",
    "X_cualy = SUPPPORT2[['sex', 'dzgroup', 'dzclass', 'income', 'race', 'ca', 'dnr', 'sfdm2']]  # Selección correcta de columnas\n",
    "\n",
    "# Imputar los valores faltantes usando KNN\n",
    "knn_imputer = KNNImputer(n_neighbors=5)\n",
    "X_imputed = knn_imputer.fit_transform(X_cuanty)\n",
    "X_imputed = pd.DataFrame(X_imputed, columns=X_cuanty.columns)  # Usamos las columnas correctas de X_cualy\n",
    "\n",
    "# Combinar los datos imputados con las variables categóricas\n",
    "X_combined = pd.concat([X_imputed, X_cualy], axis=1)\n",
    "\n",
    "# Guardar el DataFrame combinado en un archivo CSV\n",
    "X_combined.to_csv(\"SUPPORT2I.csv\", index=False)\n"
   ]
  }
 ],
 "metadata": {
  "kernelspec": {
   "display_name": "Python 3 (ipykernel)",
   "language": "python",
   "name": "python3"
  },
  "language_info": {
   "codemirror_mode": {
    "name": "ipython",
    "version": 3
   },
   "file_extension": ".py",
   "mimetype": "text/x-python",
   "name": "python",
   "nbconvert_exporter": "python",
   "pygments_lexer": "ipython3",
   "version": "3.8.18"
  }
 },
 "nbformat": 4,
 "nbformat_minor": 5
}
